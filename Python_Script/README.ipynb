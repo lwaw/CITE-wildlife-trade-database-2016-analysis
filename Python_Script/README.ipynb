{
 "cells": [
  {
   "cell_type": "markdown",
   "metadata": {},
   "source": [
    "# CITES wildlife trade analysis"
   ]
  },
  {
   "cell_type": "markdown",
   "metadata": {},
   "source": [
    "Collaborators: Daniel Tieleman, Laurens Edwards"
   ]
  },
  {
   "cell_type": "markdown",
   "metadata": {},
   "source": [
    "## Data set"
   ]
  },
  {
   "cell_type": "markdown",
   "metadata": {},
   "source": [
    "The CITES wildlife trade database (https://www.kaggle.com/cites/cites-wildlife-trade-database) consists of datapoints that repressent the legal import and export of endangered wildlife between countries in 2016. \n",
    "\n",
    "The data set contains the following columns:\n",
    "\n",
    "- Year (year in which the export took place)\n",
    "- App. (CITES appendix of species)\n",
    "- Taxon\n",
    "- Class \n",
    "- Order\n",
    "- Family\n",
    "- Genus\n",
    "- Importer (country)\n",
    "- Exporter (country)\n",
    "- Origin (origin country of species)\n",
    "- Imported reported quantity\n",
    "- Exporter reported quantity\n",
    "- Term (specification of exported species)\n",
    "- Unit (unit of exported species)\n",
    "- Purpose (purpose of export)\n",
    "- Source (source of the data)\n"
   ]
  },
  {
   "cell_type": "code",
   "execution_count": 12,
   "metadata": {},
   "outputs": [
    {
     "data": {
      "text/html": [
       "<div>\n",
       "<style scoped>\n",
       "    .dataframe tbody tr th:only-of-type {\n",
       "        vertical-align: middle;\n",
       "    }\n",
       "\n",
       "    .dataframe tbody tr th {\n",
       "        vertical-align: top;\n",
       "    }\n",
       "\n",
       "    .dataframe thead th {\n",
       "        text-align: right;\n",
       "    }\n",
       "</style>\n",
       "<table border=\"1\" class=\"dataframe\">\n",
       "  <thead>\n",
       "    <tr style=\"text-align: right;\">\n",
       "      <th></th>\n",
       "      <th>Year</th>\n",
       "      <th>App.</th>\n",
       "      <th>Taxon</th>\n",
       "      <th>Class</th>\n",
       "      <th>Order</th>\n",
       "      <th>Family</th>\n",
       "      <th>Genus</th>\n",
       "      <th>Importer</th>\n",
       "      <th>Exporter</th>\n",
       "      <th>Origin</th>\n",
       "      <th>Importer reported quantity</th>\n",
       "      <th>Exporter reported quantity</th>\n",
       "      <th>Term</th>\n",
       "      <th>Unit</th>\n",
       "      <th>Purpose</th>\n",
       "      <th>Source</th>\n",
       "    </tr>\n",
       "  </thead>\n",
       "  <tbody>\n",
       "    <tr>\n",
       "      <th>0</th>\n",
       "      <td>2016</td>\n",
       "      <td>I</td>\n",
       "      <td>Aquila heliaca</td>\n",
       "      <td>Aves</td>\n",
       "      <td>Falconiformes</td>\n",
       "      <td>Accipitridae</td>\n",
       "      <td>Aquila</td>\n",
       "      <td>TR</td>\n",
       "      <td>NL</td>\n",
       "      <td>CZ</td>\n",
       "      <td>NaN</td>\n",
       "      <td>1.0</td>\n",
       "      <td>bodies</td>\n",
       "      <td>NaN</td>\n",
       "      <td>T</td>\n",
       "      <td>C</td>\n",
       "    </tr>\n",
       "    <tr>\n",
       "      <th>1</th>\n",
       "      <td>2016</td>\n",
       "      <td>I</td>\n",
       "      <td>Aquila heliaca</td>\n",
       "      <td>Aves</td>\n",
       "      <td>Falconiformes</td>\n",
       "      <td>Accipitridae</td>\n",
       "      <td>Aquila</td>\n",
       "      <td>XV</td>\n",
       "      <td>RS</td>\n",
       "      <td>RS</td>\n",
       "      <td>NaN</td>\n",
       "      <td>1.0</td>\n",
       "      <td>bodies</td>\n",
       "      <td>NaN</td>\n",
       "      <td>Q</td>\n",
       "      <td>O</td>\n",
       "    </tr>\n",
       "    <tr>\n",
       "      <th>2</th>\n",
       "      <td>2016</td>\n",
       "      <td>I</td>\n",
       "      <td>Haliaeetus albicilla</td>\n",
       "      <td>Aves</td>\n",
       "      <td>Falconiformes</td>\n",
       "      <td>Accipitridae</td>\n",
       "      <td>Haliaeetus</td>\n",
       "      <td>BE</td>\n",
       "      <td>NO</td>\n",
       "      <td>NaN</td>\n",
       "      <td>NaN</td>\n",
       "      <td>43.0</td>\n",
       "      <td>feathers</td>\n",
       "      <td>NaN</td>\n",
       "      <td>S</td>\n",
       "      <td>W</td>\n",
       "    </tr>\n",
       "    <tr>\n",
       "      <th>3</th>\n",
       "      <td>2016</td>\n",
       "      <td>I</td>\n",
       "      <td>Haliaeetus albicilla</td>\n",
       "      <td>Aves</td>\n",
       "      <td>Falconiformes</td>\n",
       "      <td>Accipitridae</td>\n",
       "      <td>Haliaeetus</td>\n",
       "      <td>BE</td>\n",
       "      <td>NO</td>\n",
       "      <td>NaN</td>\n",
       "      <td>NaN</td>\n",
       "      <td>43.0</td>\n",
       "      <td>specimens</td>\n",
       "      <td>NaN</td>\n",
       "      <td>S</td>\n",
       "      <td>W</td>\n",
       "    </tr>\n",
       "    <tr>\n",
       "      <th>4</th>\n",
       "      <td>2016</td>\n",
       "      <td>I</td>\n",
       "      <td>Haliaeetus albicilla</td>\n",
       "      <td>Aves</td>\n",
       "      <td>Falconiformes</td>\n",
       "      <td>Accipitridae</td>\n",
       "      <td>Haliaeetus</td>\n",
       "      <td>DK</td>\n",
       "      <td>IS</td>\n",
       "      <td>NaN</td>\n",
       "      <td>700.0</td>\n",
       "      <td>NaN</td>\n",
       "      <td>specimens</td>\n",
       "      <td>NaN</td>\n",
       "      <td>S</td>\n",
       "      <td>W</td>\n",
       "    </tr>\n",
       "  </tbody>\n",
       "</table>\n",
       "</div>"
      ],
      "text/plain": [
       "   Year App.                 Taxon Class          Order        Family  \\\n",
       "0  2016    I        Aquila heliaca  Aves  Falconiformes  Accipitridae   \n",
       "1  2016    I        Aquila heliaca  Aves  Falconiformes  Accipitridae   \n",
       "2  2016    I  Haliaeetus albicilla  Aves  Falconiformes  Accipitridae   \n",
       "3  2016    I  Haliaeetus albicilla  Aves  Falconiformes  Accipitridae   \n",
       "4  2016    I  Haliaeetus albicilla  Aves  Falconiformes  Accipitridae   \n",
       "\n",
       "        Genus Importer Exporter Origin  Importer reported quantity  \\\n",
       "0      Aquila       TR       NL     CZ                         NaN   \n",
       "1      Aquila       XV       RS     RS                         NaN   \n",
       "2  Haliaeetus       BE       NO    NaN                         NaN   \n",
       "3  Haliaeetus       BE       NO    NaN                         NaN   \n",
       "4  Haliaeetus       DK       IS    NaN                       700.0   \n",
       "\n",
       "   Exporter reported quantity       Term Unit Purpose Source  \n",
       "0                         1.0     bodies  NaN       T      C  \n",
       "1                         1.0     bodies  NaN       Q      O  \n",
       "2                        43.0   feathers  NaN       S      W  \n",
       "3                        43.0  specimens  NaN       S      W  \n",
       "4                         NaN  specimens  NaN       S      W  "
      ]
     },
     "execution_count": 12,
     "metadata": {},
     "output_type": "execute_result"
    }
   ],
   "source": [
    "import pandas as pd\n",
    "\n",
    "wildlife = pd.read_csv(\"../Data/CITES_wildlife_trade_database.csv\")\n",
    "wildlife.head()"
   ]
  },
  {
   "cell_type": "markdown",
   "metadata": {},
   "source": [
    "## Analysis"
   ]
  },
  {
   "cell_type": "markdown",
   "metadata": {},
   "source": [
    "For this analysis we were interested in the export of species that were exported with the purpose of reintroduction into the wild. In order to get an overview of this we searched for the countries that exported the most with this purpose. We used an dictionary to store this information. Since only either the import or export quantity were specified per data point we first checked if the export quantity was specified and if not we used the import quantity. For each country we summed these quantities and then used matplotlib to plot a bar plot of the total export per country with the purpose of reintroduction into the wild.\n",
    "\n",
    "![alt text](../Figures/biggest_exporters.png)"
   ]
  },
  {
   "cell_type": "markdown",
   "metadata": {},
   "source": [
    "After this we were curious about the export relationship between countries. For this we used the data in a similar way compared to the former analysis but instead of summing all export quantities we stored them separate to graph every interaction in the export network. In the following graph each node represents a country and every edge represents an export with the value indicating the export quantity.\n",
    "\n",
    "![alt text](../Figures/export_network.png)"
   ]
  },
  {
   "cell_type": "markdown",
   "metadata": {},
   "source": [
    "# Dependencies"
   ]
  },
  {
   "cell_type": "markdown",
   "metadata": {},
   "source": [
    "- pandas\n",
    "- matplotlib.pyplot\n",
    "- networkx"
   ]
  }
 ],
 "metadata": {
  "kernelspec": {
   "display_name": "Python 3",
   "language": "python",
   "name": "python3"
  },
  "language_info": {
   "codemirror_mode": {
    "name": "ipython",
    "version": 3
   },
   "file_extension": ".py",
   "mimetype": "text/x-python",
   "name": "python",
   "nbconvert_exporter": "python",
   "pygments_lexer": "ipython3",
   "version": "3.8.3"
  }
 },
 "nbformat": 4,
 "nbformat_minor": 4
}
